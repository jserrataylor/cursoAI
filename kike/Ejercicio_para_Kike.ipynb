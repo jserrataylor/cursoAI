{
  "nbformat": 4,
  "nbformat_minor": 0,
  "metadata": {
    "colab": {
      "provenance": [],
      "authorship_tag": "ABX9TyOZVBq1FgZGsonJPBcNujgG",
      "include_colab_link": true
    },
    "kernelspec": {
      "name": "python3",
      "display_name": "Python 3"
    },
    "language_info": {
      "name": "python"
    }
  },
  "cells": [
    {
      "cell_type": "markdown",
      "metadata": {
        "id": "view-in-github",
        "colab_type": "text"
      },
      "source": [
        "<a href=\"https://colab.research.google.com/github/jserrataylor/cursoAI/blob/main/Ejercicio_para_Kike.ipynb\" target=\"_parent\"><img src=\"https://colab.research.google.com/assets/colab-badge.svg\" alt=\"Open In Colab\"/></a>"
      ]
    },
    {
      "cell_type": "code",
      "execution_count": 1,
      "metadata": {
        "colab": {
          "base_uri": "https://localhost:8080/"
        },
        "id": "_IYMLB-oQx_5",
        "outputId": "287e321c-d75f-43a3-e7fd-5cb138fc1889"
      },
      "outputs": [
        {
          "output_type": "stream",
          "name": "stdout",
          "text": [
            "LogisticRegression: Accuracy = 0.7000\n",
            "RandomForest: Accuracy = 0.6250\n",
            "GradientBoosting: Accuracy = 0.6500\n",
            "\n",
            "Mejor modelo: LogisticRegression con accuracy = 0.7000\n",
            "Modelo guardado como 'best_model.pkl'\n"
          ]
        }
      ],
      "source": [
        "import pandas as pd\n",
        "import numpy as np\n",
        "from sklearn.model_selection import train_test_split\n",
        "from sklearn.linear_model import LogisticRegression\n",
        "from sklearn.ensemble import RandomForestClassifier, GradientBoostingClassifier\n",
        "from sklearn.metrics import accuracy_score\n",
        "import joblib\n",
        "\n",
        "# 1. Generar datos sintéticos\n",
        "np.random.seed(42)\n",
        "n_samples = 200\n",
        "data = pd.DataFrame({\n",
        "    'age': np.random.randint(18, 90, size=n_samples),\n",
        "    'income': np.random.uniform(20000, 100000, size=n_samples),\n",
        "    'num_visits': np.random.randint(0, 50, size=n_samples),\n",
        "})\n",
        "\n",
        "# Utilizamos una función logística para definir la probabilidad de compra\n",
        "# Coeficientes arbitrarios para simulación\n",
        "coef = np.array([0.03, 0.00002, 0.05])\n",
        "intercept = -5\n",
        "X = data.values\n",
        "logit = X.dot(coef) + intercept\n",
        "prob = 1 / (1 + np.exp(-logit))\n",
        "data['purchased'] = (np.random.rand(n_samples) < prob).astype(int)\n",
        "\n",
        "# 2. División entrenamiento / prueba\n",
        "X = data[['age', 'income', 'num_visits']]\n",
        "y = data['purchased']\n",
        "X_train, X_test, y_train, y_test = train_test_split(X, y, test_size=0.2, random_state=42)\n",
        "\n",
        "# 3. Definición y entrenamiento de modelos\n",
        "models = {\n",
        "    'LogisticRegression': LogisticRegression(max_iter=1000),\n",
        "    'RandomForest': RandomForestClassifier(n_estimators=100, random_state=42),\n",
        "    'GradientBoosting': GradientBoostingClassifier(n_estimators=100, random_state=42),\n",
        "}\n",
        "\n",
        "results = {}\n",
        "for name, model in models.items():\n",
        "    model.fit(X_train, y_train)\n",
        "    preds = model.predict(X_test)\n",
        "    acc = accuracy_score(y_test, preds)\n",
        "    results[name] = acc\n",
        "    print(f\"{name}: Accuracy = {acc:.4f}\")\n",
        "\n",
        "# 4. Selección del mejor modelo\n",
        "best_name = max(results, key=results.get)\n",
        "best_model = models[best_name]\n",
        "print(f\"\\nMejor modelo: {best_name} con accuracy = {results[best_name]:.4f}\")\n",
        "\n",
        "# 5. Guardar el mejor modelo\n",
        "joblib.dump(best_model, 'best_model.pkl')\n",
        "print(\"Modelo guardado como 'best_model.pkl'\")\n"
      ]
    },
    {
      "cell_type": "code",
      "source": [
        "import streamlit as st\n",
        "import joblib\n",
        "import numpy as np\n",
        "\n",
        "# Título y descripción\n",
        "st.title(\"Predicción de Compra de Cliente\")\n",
        "st.write(\"\"\"\n",
        "Este servicio despliega un modelo de clasificación entrenado sobre datos sintéticos\n",
        "y predice la probabilidad de que un cliente compre un producto en función de:\n",
        "- Edad\n",
        "- Ingresos anuales\n",
        "- Número de visitas al sitio\n",
        "\"\"\")\n",
        "\n",
        "# Función para cargar y cachear el modelo\n",
        "@st.cache(allow_output_mutation=True)\n",
        "def load_model():\n",
        "    return joblib.load(\"best_model.pkl\")\n",
        "\n",
        "model = load_model()\n",
        "\n",
        "# Panel lateral para los parámetros de entrada\n",
        "st.sidebar.header(\"Parámetros de entrada\")\n",
        "age = st.sidebar.slider(\"Edad\", min_value=18, max_value=90, value=30, step=1)\n",
        "income = st.sidebar.number_input(\"Ingresos anuales (USD)\", min_value=0.0, value=50000.0, step=1000.0)\n",
        "visits = st.sidebar.slider(\"Número de visitas al sitio\", min_value=0, max_value=50, value=5, step=1)\n",
        "\n",
        "# Preparar los datos de entrada y hacer la predicción\n",
        "X_new = np.array([[age, income, visits]])\n",
        "prob = model.predict_proba(X_new)[0, 1]\n",
        "pred = model.predict(X_new)[0]\n",
        "\n",
        "# Mostrar resultados\n",
        "st.subheader(\"Resultados de la predicción\")\n",
        "st.markdown(f\"- **Probabilidad de compra:** {prob:.2%}\")\n",
        "st.markdown(f\"- **Predicción:** {'🛒 Comprar' if pred == 1 else '🚫 No comprar'}\")\n"
      ],
      "metadata": {
        "id": "7wp2eq8QRiLr"
      },
      "execution_count": null,
      "outputs": []
    }
  ]
}
